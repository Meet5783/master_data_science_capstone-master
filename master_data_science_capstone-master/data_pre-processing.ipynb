{
 "cells": [
  {
   "cell_type": "markdown",
   "metadata": {},
   "source": [
    "# Data cleansing and pre-processing\n",
    "\n",
    "This notebook shows the complete process followed to transform the original data set in a new one that contains the business variables with to be analyized in the next phase of the project.\n",
    "\n",
    "* Data was readed from the provided file `datos.csv` a 3.6 gigabytes CSV file with 36 variables about 10.651.775 bank operations.\n",
    "* All the variables were converted to its correct type: date, character, categorical or numeric.\n",
    "* New variables were derived from the original ones\n",
    "* Finally the data was normalized and centered around it's mean, so the K-means algorithm could calculate the distance between each observation correctly.\n",
    "\n",
    "The resulting data set was stored in the Apache Hadoop Distributed File System running on the cloud ready to be analyzed with Spark."
   ]
  },
  {
   "cell_type": "code",
   "execution_count": 64,
   "metadata": {
    "collapsed": true
   },
   "outputs": [],
   "source": [
    "# data.table R package provides all the needed data wrangling features to deal with big data files\n",
    "library('data.table')"
   ]
  },
  {
   "cell_type": "code",
   "execution_count": 65,
   "metadata": {
    "collapsed": false
   },
   "outputs": [],
   "source": [
    "# Reading the data file\n",
    "DT <- fread('./sample.csv', encoding='Latin-1', na.strings=c(\"\",\"NA\"), sep=\",\")"
   ]
  },
  {
   "cell_type": "code",
   "execution_count": 66,
   "metadata": {
    "collapsed": false
   },
   "outputs": [
    {
     "data": {
      "text/html": [
       "<table>\n",
       "<thead><tr><th></th><th scope=col>ANO</th><th scope=col>MES</th><th scope=col>DIA</th><th scope=col>OP_ADQUIRENTE</th><th scope=col>ADQUIERENTE</th><th scope=col>DES_TIPO_ADQUIRENTE</th><th scope=col>OP_EMISOR</th><th scope=col>EMISOR</th><th scope=col>DES_TIPO_EMISOR</th><th scope=col>DES_AMBITO</th><th scope=col>OP_IDENT_TERMINAL</th><th scope=col>OP_COD_POST_COMERCIO</th><th scope=col>DES_PROVINCIA</th><th scope=col>LOCALIDAD</th><th scope=col>OP_COD_PAIS_COMERCIO</th><th scope=col>DES_MARCA</th><th scope=col>DES_GAMA</th><th scope=col>DES_PRODUCTO</th><th scope=col>TIPO_TARJETA</th><th scope=col>DES_CREDEB</th><th scope=col>DES_CLASE_OPERACION</th><th scope=col>DES_PAGO</th><th scope=col>DES_RESULTADO</th><th scope=col>PER_ID_PERSONA</th><th scope=col>PER_TIPO_PERS</th><th scope=col>PER_FECHA_ALTA</th><th scope=col>OF_COD_POST</th><th scope=col>PER_COD_PAIS_NAC</th><th scope=col>OF_COD_PAIS_RES</th><th scope=col>PER_ID_SEXO</th><th scope=col>PER_EST_CIVIL</th><th scope=col>PER_MARCA_EMP</th><th scope=col>PER_MARCA_FALL</th><th scope=col>PER_FECHA_NAC</th><th scope=col>NOPER</th><th scope=col>IMPOPER</th></tr></thead>\n",
       "<tbody>\n",
       "\t<tr><th scope=row>1</th><td>2016</td><td>03</td><td>26</td><td>UBN3YFFD8J1TZLDX4IV2</td><td>6CVN1DBRKUOUTFT8VBXJ</td><td>EURO 6000</td><td>CM8GMN7BQOF9JJ1XXCPE</td><td>KSPHEXET1G2LNR4OXAGU</td><td>EURO 6000</td><td>On us</td><td>EUNDITVNRWGASN0VCFMK</td><td>99999</td><td>NO EXISTE LA PROVINCIA</td><td>NA</td><td>ESP</td><td>MasterCard</td><td>EstÃ¡ndar</td><td>MasterCard</td><td>P</td><td>DÃ©bito</td><td>Reintegros</td><td>Debito</td><td>OK</td><td>HWG2BTMLK1WMRVJT3TMU</td><td>F</td><td>19840926</td><td>29002</td><td>ESP</td><td>ESP</td><td>F</td><td>C</td><td>0</td><td>0</td><td>19410304</td><td>1</td><td>30</td></tr>\n",
       "\t<tr><th scope=row>2</th><td>2016</td><td>03</td><td>03</td><td>BM3MV1QJ1RWI6XB8W36S</td><td>Q4SRXYQNPFB8ST2BCSLT</td><td>EURO 6000</td><td>X4W6L75KAK6TKQFMYXGJ</td><td>T08GEJ1FFLLW5WK82Z0M</td><td>EURO 6000</td><td>On us</td><td>HDOHII3H5SMPCZIJI07V</td><td>99999</td><td>NO EXISTE LA PROVINCIA</td><td>NA</td><td>ESP</td><td>Visa</td><td>EstÃ¡ndar</td><td>Electron/Plus/V Pay</td><td>P</td><td>DÃ©bito</td><td>Reintegros</td><td>Debito</td><td>OK</td><td>S72O8TEU3YWJFJLXJO7Y</td><td>F</td><td>19931218</td><td>47006</td><td>ESP</td><td>ESP</td><td>F</td><td>C</td><td>0</td><td>0</td><td>19451121</td><td>1</td><td>200</td></tr>\n",
       "</tbody>\n",
       "</table>\n"
      ],
      "text/latex": [
       "\\begin{tabular}{r|llllllllllllllllllllllllllllllllllll}\n",
       "  & ANO & MES & DIA & OP_ADQUIRENTE & ADQUIERENTE & DES_TIPO_ADQUIRENTE & OP_EMISOR & EMISOR & DES_TIPO_EMISOR & DES_AMBITO & OP_IDENT_TERMINAL & OP_COD_POST_COMERCIO & DES_PROVINCIA & LOCALIDAD & OP_COD_PAIS_COMERCIO & DES_MARCA & DES_GAMA & DES_PRODUCTO & TIPO_TARJETA & DES_CREDEB & DES_CLASE_OPERACION & DES_PAGO & DES_RESULTADO & PER_ID_PERSONA & PER_TIPO_PERS & PER_FECHA_ALTA & OF_COD_POST & PER_COD_PAIS_NAC & OF_COD_PAIS_RES & PER_ID_SEXO & PER_EST_CIVIL & PER_MARCA_EMP & PER_MARCA_FALL & PER_FECHA_NAC & NOPER & IMPOPER\\\\\n",
       "\\hline\n",
       "\t1 & 2016 & 03 & 26 & UBN3YFFD8J1TZLDX4IV2 & 6CVN1DBRKUOUTFT8VBXJ & EURO 6000 & CM8GMN7BQOF9JJ1XXCPE & KSPHEXET1G2LNR4OXAGU & EURO 6000 & On us & EUNDITVNRWGASN0VCFMK & 99999 & NO EXISTE LA PROVINCIA & NA & ESP & MasterCard & EstÃ¡ndar & MasterCard & P & DÃ©bito & Reintegros & Debito & OK & HWG2BTMLK1WMRVJT3TMU & F & 19840926 & 29002 & ESP & ESP & F & C & 0 & 0 & 19410304 & 1 & 30\\\\\n",
       "\t2 & 2016 & 03 & 03 & BM3MV1QJ1RWI6XB8W36S & Q4SRXYQNPFB8ST2BCSLT & EURO 6000 & X4W6L75KAK6TKQFMYXGJ & T08GEJ1FFLLW5WK82Z0M & EURO 6000 & On us & HDOHII3H5SMPCZIJI07V & 99999 & NO EXISTE LA PROVINCIA & NA & ESP & Visa & EstÃ¡ndar & Electron/Plus/V Pay & P & DÃ©bito & Reintegros & Debito & OK & S72O8TEU3YWJFJLXJO7Y & F & 19931218 & 47006 & ESP & ESP & F & C & 0 & 0 & 19451121 & 1 & 200\\\\\n",
       "\\end{tabular}\n"
      ],
      "text/plain": [
       "    ANO MES DIA        OP_ADQUIRENTE          ADQUIERENTE DES_TIPO_ADQUIRENTE\n",
       "1: 2016  03  26 UBN3YFFD8J1TZLDX4IV2 6CVN1DBRKUOUTFT8VBXJ           EURO 6000\n",
       "2: 2016  03  03 BM3MV1QJ1RWI6XB8W36S Q4SRXYQNPFB8ST2BCSLT           EURO 6000\n",
       "              OP_EMISOR               EMISOR DES_TIPO_EMISOR DES_AMBITO\n",
       "1: CM8GMN7BQOF9JJ1XXCPE KSPHEXET1G2LNR4OXAGU       EURO 6000      On us\n",
       "2: X4W6L75KAK6TKQFMYXGJ T08GEJ1FFLLW5WK82Z0M       EURO 6000      On us\n",
       "      OP_IDENT_TERMINAL OP_COD_POST_COMERCIO          DES_PROVINCIA LOCALIDAD\n",
       "1: EUNDITVNRWGASN0VCFMK                99999 NO EXISTE LA PROVINCIA        NA\n",
       "2: HDOHII3H5SMPCZIJI07V                99999 NO EXISTE LA PROVINCIA        NA\n",
       "   OP_COD_PAIS_COMERCIO  DES_MARCA  DES_GAMA        DES_PRODUCTO TIPO_TARJETA\n",
       "1:                  ESP MasterCard EstÃ¡ndar          MasterCard            P\n",
       "2:                  ESP       Visa EstÃ¡ndar Electron/Plus/V Pay            P\n",
       "   DES_CREDEB DES_CLASE_OPERACION DES_PAGO DES_RESULTADO       PER_ID_PERSONA\n",
       "1:    DÃ©bito          Reintegros   Debito            OK HWG2BTMLK1WMRVJT3TMU\n",
       "2:    DÃ©bito          Reintegros   Debito            OK S72O8TEU3YWJFJLXJO7Y\n",
       "   PER_TIPO_PERS PER_FECHA_ALTA OF_COD_POST PER_COD_PAIS_NAC OF_COD_PAIS_RES\n",
       "1:             F       19840926       29002              ESP             ESP\n",
       "2:             F       19931218       47006              ESP             ESP\n",
       "   PER_ID_SEXO PER_EST_CIVIL PER_MARCA_EMP PER_MARCA_FALL PER_FECHA_NAC NOPER\n",
       "1:           F             C             0              0      19410304     1\n",
       "2:           F             C             0              0      19451121     1\n",
       "   IMPOPER\n",
       "1:      30\n",
       "2:     200"
      ]
     },
     "execution_count": 66,
     "metadata": {},
     "output_type": "execute_result"
    }
   ],
   "source": [
    "# First two rows of the new data table\n",
    "head(DT, 2)"
   ]
  },
  {
   "cell_type": "code",
   "execution_count": 67,
   "metadata": {
    "collapsed": false,
    "scrolled": true
   },
   "outputs": [
    {
     "data": {
      "text/html": [
       "<table>\n",
       "<thead><tr><th></th><th scope=col>sapply(DT, class)</th></tr></thead>\n",
       "<tbody>\n",
       "\t<tr><th scope=row>ANO</th><td>character</td></tr>\n",
       "\t<tr><th scope=row>MES</th><td>character</td></tr>\n",
       "\t<tr><th scope=row>DIA</th><td>character</td></tr>\n",
       "\t<tr><th scope=row>OP_ADQUIRENTE</th><td>character</td></tr>\n",
       "\t<tr><th scope=row>ADQUIERENTE</th><td>character</td></tr>\n",
       "\t<tr><th scope=row>DES_TIPO_ADQUIRENTE</th><td>character</td></tr>\n",
       "\t<tr><th scope=row>OP_EMISOR</th><td>character</td></tr>\n",
       "\t<tr><th scope=row>EMISOR</th><td>character</td></tr>\n",
       "\t<tr><th scope=row>DES_TIPO_EMISOR</th><td>character</td></tr>\n",
       "\t<tr><th scope=row>DES_AMBITO</th><td>character</td></tr>\n",
       "\t<tr><th scope=row>OP_IDENT_TERMINAL</th><td>character</td></tr>\n",
       "\t<tr><th scope=row>OP_COD_POST_COMERCIO</th><td>character</td></tr>\n",
       "\t<tr><th scope=row>DES_PROVINCIA</th><td>character</td></tr>\n",
       "\t<tr><th scope=row>LOCALIDAD</th><td>character</td></tr>\n",
       "\t<tr><th scope=row>OP_COD_PAIS_COMERCIO</th><td>character</td></tr>\n",
       "\t<tr><th scope=row>DES_MARCA</th><td>character</td></tr>\n",
       "\t<tr><th scope=row>DES_GAMA</th><td>character</td></tr>\n",
       "\t<tr><th scope=row>DES_PRODUCTO</th><td>character</td></tr>\n",
       "\t<tr><th scope=row>TIPO_TARJETA</th><td>character</td></tr>\n",
       "\t<tr><th scope=row>DES_CREDEB</th><td>character</td></tr>\n",
       "\t<tr><th scope=row>DES_CLASE_OPERACION</th><td>character</td></tr>\n",
       "\t<tr><th scope=row>DES_PAGO</th><td>character</td></tr>\n",
       "\t<tr><th scope=row>DES_RESULTADO</th><td>character</td></tr>\n",
       "\t<tr><th scope=row>PER_ID_PERSONA</th><td>character</td></tr>\n",
       "\t<tr><th scope=row>PER_TIPO_PERS</th><td>character</td></tr>\n",
       "\t<tr><th scope=row>PER_FECHA_ALTA</th><td>character</td></tr>\n",
       "\t<tr><th scope=row>OF_COD_POST</th><td>character</td></tr>\n",
       "\t<tr><th scope=row>PER_COD_PAIS_NAC</th><td>character</td></tr>\n",
       "\t<tr><th scope=row>OF_COD_PAIS_RES</th><td>character</td></tr>\n",
       "\t<tr><th scope=row>PER_ID_SEXO</th><td>character</td></tr>\n",
       "\t<tr><th scope=row>PER_EST_CIVIL</th><td>character</td></tr>\n",
       "\t<tr><th scope=row>PER_MARCA_EMP</th><td>character</td></tr>\n",
       "\t<tr><th scope=row>PER_MARCA_FALL</th><td>character</td></tr>\n",
       "\t<tr><th scope=row>PER_FECHA_NAC</th><td>character</td></tr>\n",
       "\t<tr><th scope=row>NOPER</th><td>character</td></tr>\n",
       "\t<tr><th scope=row>IMPOPER</th><td>character</td></tr>\n",
       "</tbody>\n",
       "</table>\n"
      ],
      "text/latex": [
       "\\begin{tabular}{r|l}\n",
       "  & sapply(DT, class)\\\\\n",
       "\\hline\n",
       "\tANO & character\\\\\n",
       "\tMES & character\\\\\n",
       "\tDIA & character\\\\\n",
       "\tOP_ADQUIRENTE & character\\\\\n",
       "\tADQUIERENTE & character\\\\\n",
       "\tDES_TIPO_ADQUIRENTE & character\\\\\n",
       "\tOP_EMISOR & character\\\\\n",
       "\tEMISOR & character\\\\\n",
       "\tDES_TIPO_EMISOR & character\\\\\n",
       "\tDES_AMBITO & character\\\\\n",
       "\tOP_IDENT_TERMINAL & character\\\\\n",
       "\tOP_COD_POST_COMERCIO & character\\\\\n",
       "\tDES_PROVINCIA & character\\\\\n",
       "\tLOCALIDAD & character\\\\\n",
       "\tOP_COD_PAIS_COMERCIO & character\\\\\n",
       "\tDES_MARCA & character\\\\\n",
       "\tDES_GAMA & character\\\\\n",
       "\tDES_PRODUCTO & character\\\\\n",
       "\tTIPO_TARJETA & character\\\\\n",
       "\tDES_CREDEB & character\\\\\n",
       "\tDES_CLASE_OPERACION & character\\\\\n",
       "\tDES_PAGO & character\\\\\n",
       "\tDES_RESULTADO & character\\\\\n",
       "\tPER_ID_PERSONA & character\\\\\n",
       "\tPER_TIPO_PERS & character\\\\\n",
       "\tPER_FECHA_ALTA & character\\\\\n",
       "\tOF_COD_POST & character\\\\\n",
       "\tPER_COD_PAIS_NAC & character\\\\\n",
       "\tOF_COD_PAIS_RES & character\\\\\n",
       "\tPER_ID_SEXO & character\\\\\n",
       "\tPER_EST_CIVIL & character\\\\\n",
       "\tPER_MARCA_EMP & character\\\\\n",
       "\tPER_MARCA_FALL & character\\\\\n",
       "\tPER_FECHA_NAC & character\\\\\n",
       "\tNOPER & character\\\\\n",
       "\tIMPOPER & character\\\\\n",
       "\\end{tabular}\n"
      ],
      "text/plain": [
       "                     sapply(DT, class)\n",
       "ANO                          character\n",
       "MES                          character\n",
       "DIA                          character\n",
       "OP_ADQUIRENTE                character\n",
       "ADQUIERENTE                  character\n",
       "DES_TIPO_ADQUIRENTE          character\n",
       "OP_EMISOR                    character\n",
       "EMISOR                       character\n",
       "DES_TIPO_EMISOR              character\n",
       "DES_AMBITO                   character\n",
       "OP_IDENT_TERMINAL            character\n",
       "OP_COD_POST_COMERCIO         character\n",
       "DES_PROVINCIA                character\n",
       "LOCALIDAD                    character\n",
       "OP_COD_PAIS_COMERCIO         character\n",
       "DES_MARCA                    character\n",
       "DES_GAMA                     character\n",
       "DES_PRODUCTO                 character\n",
       "TIPO_TARJETA                 character\n",
       "DES_CREDEB                   character\n",
       "DES_CLASE_OPERACION          character\n",
       "DES_PAGO                     character\n",
       "DES_RESULTADO                character\n",
       "PER_ID_PERSONA               character\n",
       "PER_TIPO_PERS                character\n",
       "PER_FECHA_ALTA               character\n",
       "OF_COD_POST                  character\n",
       "PER_COD_PAIS_NAC             character\n",
       "OF_COD_PAIS_RES              character\n",
       "PER_ID_SEXO                  character\n",
       "PER_EST_CIVIL                character\n",
       "PER_MARCA_EMP                character\n",
       "PER_MARCA_FALL               character\n",
       "PER_FECHA_NAC                character\n",
       "NOPER                        character\n",
       "IMPOPER                      character"
      ]
     },
     "execution_count": 67,
     "metadata": {},
     "output_type": "execute_result"
    }
   ],
   "source": [
    "# All the variables were readed as characters by fread data table function so we need to recode them.\n",
    "as.data.frame(sapply(DT,class))"
   ]
  },
  {
   "cell_type": "code",
   "execution_count": null,
   "metadata": {
    "collapsed": false
   },
   "outputs": [],
   "source": [
    "# Define a new variable FECHA with the operation date\n",
    "DT[,FECHA:=as.Date(paste(ANO, MES, DIA, sep=\"-\" ), tz = \"Europe/Madrid\")]\n",
    "\n",
    "# Convert to date format both PER_FECHA_NAC and PER_FECHA_ALTA\n",
    "DT[,PER_FECHA_NAC:=as.Date(PER_FECHA_NAC, format = \"%Y%m%d\", tz = \"Europe/Madrid\")]\n",
    "DT[,PER_FECHA_ALTA:=as.Date(PER_FECHA_ALTA, format = \"%Y%m%d\", tz = \"Europe/Madrid\")]\n",
    "head(DT,2)"
   ]
  },
  {
   "cell_type": "code",
   "execution_count": null,
   "metadata": {
    "collapsed": false
   },
   "outputs": [],
   "source": [
    "# Convert character variables into categorical (factor) variables in order to speed data processing\n",
    "variables <- c('ANO','MES','DIA','OP_ADQUIRENTE','DES_TIPO_EMISOR','DES_PROVINCIA', 'DES_TIPO_ADQUIRENTE', 'DES_AMBITO', 'OP_COD_PAIS_COMERCIO','DES_MARCA','DES_GAMA','DES_PRODUCTO', 'TIPO_TARJETA', 'DES_CREDEB','DES_CLASE_OPERACION', 'DES_PAGO','DES_RESULTADO','PER_TIPO_PERS','PER_COD_PAIS_NAC', 'OF_COD_PAIS_RES','PER_ID_SEXO','PER_EST_CIVIL','PER_MARCA_EMP','PER_MARCA_FALL')\n",
    "DT[,(variables):=lapply(.SD, as.factor),.SDcols=variables]\n",
    "rm(variables)"
   ]
  },
  {
   "cell_type": "code",
   "execution_count": null,
   "metadata": {
    "collapsed": false
   },
   "outputs": [],
   "source": [
    "# convert into numeric format\n",
    "variables <- c('NOPER','IMPOPER')\n",
    "DT[,(variables):=lapply(.SD, as.numeric),.SDcols=variables]\n",
    "rm(variables)"
   ]
  },
  {
   "cell_type": "code",
   "execution_count": 71,
   "metadata": {
    "collapsed": false
   },
   "outputs": [],
   "source": [
    "# Assign NA to DES_PROVINCIA variable with value 'NO EXISTE LA PROVINCIA'\n",
    "levels(DT$DES_PROVINCIA)[levels(DT$DES_PROVINCIA)=='NO EXISTE LA PROVINCIA'] <- NA"
   ]
  },
  {
   "cell_type": "code",
   "execution_count": 72,
   "metadata": {
    "collapsed": false
   },
   "outputs": [
    {
     "name": "stdout",
     "output_type": "stream",
     "text": [
      "Classes ‘data.table’ and 'data.frame':\t500 obs. of  37 variables:\n",
      " $ FECHA               : Date, format: \"2016-03-26\" \"2016-03-03\" ...\n",
      " $ ANO                 : Factor w/ 1 level \"2016\": 1 1 1 1 1 1 1 1 1 1 ...\n",
      " $ MES                 : Factor w/ 3 levels \"01\",\"02\",\"03\": 3 3 3 1 3 1 1 1 2 1 ...\n",
      " $ DIA                 : Factor w/ 31 levels \"01\",\"02\",\"03\",..: 26 3 20 5 12 5 20 3 5 29 ...\n",
      " $ OP_ADQUIRENTE       : Factor w/ 27 levels \"0A86SJKPC5VI5TUKAN01\",..: 21 11 25 21 8 21 19 12 2 21 ...\n",
      " $ ADQUIERENTE         : chr  \"6CVN1DBRKUOUTFT8VBXJ\" \"Q4SRXYQNPFB8ST2BCSLT\" \"KTXGB1YGLNA5A3MBQWPC\" \"6CVN1DBRKUOUTFT8VBXJ\" ...\n",
      " $ DES_TIPO_ADQUIRENTE : Factor w/ 4 levels \"Eufiserv\",\"EURO 6000\",..: 2 2 3 2 2 2 2 3 3 2 ...\n",
      " $ OP_EMISOR           : chr  \"CM8GMN7BQOF9JJ1XXCPE\" \"X4W6L75KAK6TKQFMYXGJ\" \"S33T9PXGBMI7GUX051OC\" \"CM8GMN7BQOF9JJ1XXCPE\" ...\n",
      " $ EMISOR              : chr  \"KSPHEXET1G2LNR4OXAGU\" \"T08GEJ1FFLLW5WK82Z0M\" \"JFD7RA18JJ6YI9L720RE\" \"KSPHEXET1G2LNR4OXAGU\" ...\n",
      " $ DES_TIPO_EMISOR     : Factor w/ 6 levels \"Eufiserv\",\"EURO 6000\",..: 2 2 2 2 4 2 2 2 2 2 ...\n",
      " $ DES_AMBITO          : Factor w/ 5 levels \"Intercambio Internacional\",..: 4 4 2 4 2 4 3 2 2 4 ...\n",
      " $ OP_IDENT_TERMINAL   : chr  \"EUNDITVNRWGASN0VCFMK\" \"HDOHII3H5SMPCZIJI07V\" \"Q7MULZRDPH24847MYMLF\" \"9GETG4KKGZXQ8PKZSIXT\" ...\n",
      " $ OP_COD_POST_COMERCIO: chr  \"99999\" \"99999\" \"46680\" \"99999\" ...\n",
      " $ DES_PROVINCIA       : Factor w/ 42 levels \"A CoruÃ±a\",\"Ã\\u0081lava\",..: NA NA 40 NA 3 NA 19 32 9 NA ...\n",
      " $ LOCALIDAD           : chr  NA NA \"VALENCIA\" NA ...\n",
      " $ OP_COD_PAIS_COMERCIO: Factor w/ 3 levels \"DEU\",\"ESP\",\"PRT\": 2 2 2 2 2 2 2 2 2 2 ...\n",
      " $ DES_MARCA           : Factor w/ 3 levels \"MasterCard\",\"Otras\",..: 1 3 1 1 3 1 1 1 3 1 ...\n",
      " $ DES_GAMA            : Factor w/ 2 levels \"EstÃ¡ndar\",\"Prestigio\": 1 1 1 1 1 1 1 1 1 1 ...\n",
      " $ DES_PRODUCTO        : Factor w/ 5 levels \"Electron/Plus/V Pay\",..: 3 1 3 3 1 3 3 3 5 3 ...\n",
      " $ TIPO_TARJETA        : Factor w/ 2 levels \"E\",\"P\": 2 2 2 2 NA 2 2 2 NA 2 ...\n",
      " $ DES_CREDEB          : Factor w/ 2 levels \"CrÃ©dito\",\"DÃ©bito\": 2 2 2 2 2 1 2 2 2 2 ...\n",
      " $ DES_CLASE_OPERACION : Factor w/ 1 level \"Reintegros\": 1 1 1 1 1 1 1 1 1 1 ...\n",
      " $ DES_PAGO            : Factor w/ 4 levels \"Debito\",\"Diferido\",..: 1 1 NA 1 NA 1 NA NA NA 1 ...\n",
      " $ DES_RESULTADO       : Factor w/ 1 level \"OK\": 1 1 1 1 1 1 1 1 1 1 ...\n",
      " $ PER_ID_PERSONA      : chr  \"HWG2BTMLK1WMRVJT3TMU\" \"S72O8TEU3YWJFJLXJO7Y\" \"AJ6YNSIZOH62VR52XFDB\" \"ONF35G4DR4APTKVHMG5A\" ...\n",
      " $ PER_TIPO_PERS       : Factor w/ 3 levels \"E\",\"F\",\"J\": 2 2 2 2 NA 2 2 2 NA 2 ...\n",
      " $ PER_FECHA_ALTA      : Date, format: \"1984-09-26\" \"1993-12-18\" ...\n",
      " $ OF_COD_POST         : chr  \"29002\" \"47006\" \"0\" \"11100\" ...\n",
      " $ PER_COD_PAIS_NAC    : Factor w/ 12 levels \"BGR\",\"DEU\",\"ECU\",..: 4 4 NA 4 NA NA 4 NA NA 4 ...\n",
      " $ OF_COD_PAIS_RES     : Factor w/ 1 level \"ESP\": 1 1 NA 1 NA 1 1 NA NA 1 ...\n",
      " $ PER_ID_SEXO         : Factor w/ 2 levels \"F\",\"M\": 1 1 2 1 NA 2 1 2 NA 1 ...\n",
      " $ PER_EST_CIVIL       : Factor w/ 5 levels \"C\",\"D\",\"S\",\"V\",..: 1 1 5 1 NA 3 3 5 NA 3 ...\n",
      " $ PER_MARCA_EMP       : Factor w/ 2 levels \"0\",\"1\": 1 1 1 1 NA 1 1 1 NA 1 ...\n",
      " $ PER_MARCA_FALL      : Factor w/ 1 level \"0\": 1 1 1 1 NA 1 1 1 NA 1 ...\n",
      " $ PER_FECHA_NAC       : Date, format: \"1941-03-04\" \"1945-11-21\" ...\n",
      " $ NOPER               : num  1 1 1 1 2 1 1 1 1 1 ...\n",
      " $ IMPOPER             : num  30 200 50 20 150 20 30 20 50 60 ...\n",
      " - attr(*, \".internal.selfref\")=<externalptr> \n"
     ]
    }
   ],
   "source": [
    "# We reorder de columns to put the date at the begining of each observation\n",
    "setcolorder(DT, c(ncol(DT), 1:(ncol(DT)-1)))\n",
    "str(DT)"
   ]
  },
  {
   "cell_type": "code",
   "execution_count": null,
   "metadata": {
    "collapsed": false
   },
   "outputs": [],
   "source": [
    "# Transform coded OP_ADQUIRENTE and ADQUIERENTE into a more human friendly string\n",
    "setkey(DT,OP_ADQUIRENTE)\n",
    "\n",
    "op_adquiriente <- seq(from = 1000, to=length(unique(DT$OP_ADQUIRENTE))+999, by =1)\n",
    "DT[,OP_ADQUIRENTE:=factor(OP_ADQUIRENTE,labels=op_adquiriente)]\n",
    "\n",
    "adquiriente <- paste(\"Entidad\", op_adquiriente)\n",
    "DT[,ADQUIERENTE:=factor(ADQUIERENTE,labels=adquiriente)]\n",
    "head(DT, 2)"
   ]
  },
  {
   "cell_type": "code",
   "execution_count": 74,
   "metadata": {
    "collapsed": true
   },
   "outputs": [],
   "source": [
    "# Filter out all the operations where PER_ID_PERSONA is NA and DES_RESULTADO is not OK\n",
    "DT <- DT[!is.na(PER_ID_PERSONA) & DES_RESULTADO == \"OK\"]"
   ]
  },
  {
   "cell_type": "code",
   "execution_count": 75,
   "metadata": {
    "collapsed": true
   },
   "outputs": [],
   "source": [
    "# Save the data table into a serialized object for later usage. This will speed up later porcesses of merging the resulting data set with the cluster variable with the original one.\n",
    "saveRDS(DT, file = \"./data/DT.rds\", compress = T)"
   ]
  },
  {
   "cell_type": "markdown",
   "metadata": {},
   "source": [
    "## Feature engineering\n",
    "Feature engineering is a is the process of using domain knowledge of the data to create new features.\n",
    "The process of feature engineering needs a previous brainstorming phase where new variables are derived from the previous ones. \n",
    "\n",
    "The following variables are the final ones after an iterative process of pruning:\n",
    "* High correlated variables\n",
    "* Zero variance predictors or with linear dependencies: that is, variables with few unique values relative to other values within feature, or near zero variance or high frequency of most common value or mode value.\n",
    "* Running the algorithm over other set of features with no satisfying results"
   ]
  },
  {
   "cell_type": "code",
   "execution_count": 76,
   "metadata": {
    "collapsed": true
   },
   "outputs": [],
   "source": [
    "setkeyv(DT,c(\"PER_ID_PERSONA\",\"MES\"))\n",
    "DT <- DT[, list(F1=median(na.omit(IMPOPER[which(DES_AMBITO == \"On us\")])),\n",
    "                F2=median(na.omit(IMPOPER[which(DES_AMBITO == \"Inter-Sistemas\")])),\n",
    "                F3=median(na.omit(IMPOPER[which(DES_AMBITO == \"Intra-Sistema\")]), na.rm = T),\n",
    "                F4=length(unique(.N[which(DES_AMBITO == \"On us\")])),\n",
    "                F5=length(unique(.N[which(DES_AMBITO == \"Inter-Sistemas\")])),\n",
    "                F6=length(unique(.N[which(DES_AMBITO == \"Intra-Sistema\")]))               \n",
    "),\n",
    "by=.(PER_ID_PERSONA)]"
   ]
  },
  {
   "cell_type": "code",
   "execution_count": 77,
   "metadata": {
    "collapsed": false
   },
   "outputs": [],
   "source": [
    "# Remove any NA observation. Altough none of the previous derived features have NA values. Just for be sure.\n",
    "DT[is.na(DT)] <- 0"
   ]
  },
  {
   "cell_type": "code",
   "execution_count": 78,
   "metadata": {
    "collapsed": false
   },
   "outputs": [
    {
     "data": {
      "text/html": [
       "<table>\n",
       "<thead><tr><th></th><th scope=col>PER_ID_PERSONA</th><th scope=col>F1</th><th scope=col>F2</th><th scope=col>F3</th><th scope=col>F4</th><th scope=col>F5</th><th scope=col>F6</th></tr></thead>\n",
       "<tbody>\n",
       "\t<tr><th scope=row>1</th><td>010BPUWEHI43K9AB179N</td><td>400</td><td>0</td><td>0</td><td>1</td><td>0</td><td>0</td></tr>\n",
       "\t<tr><th scope=row>2</th><td>0GQ3NQMI1N24JE0499AY</td><td>10</td><td>0</td><td>0</td><td>1</td><td>0</td><td>0</td></tr>\n",
       "</tbody>\n",
       "</table>\n"
      ],
      "text/latex": [
       "\\begin{tabular}{r|lllllll}\n",
       "  & PER_ID_PERSONA & F1 & F2 & F3 & F4 & F5 & F6\\\\\n",
       "\\hline\n",
       "\t1 & 010BPUWEHI43K9AB179N & 400 & 0 & 0 & 1 & 0 & 0\\\\\n",
       "\t2 & 0GQ3NQMI1N24JE0499AY & 10 & 0 & 0 & 1 & 0 & 0\\\\\n",
       "\\end{tabular}\n"
      ],
      "text/plain": [
       "         PER_ID_PERSONA  F1 F2 F3 F4 F5 F6\n",
       "1: 010BPUWEHI43K9AB179N 400  0  0  1  0  0\n",
       "2: 0GQ3NQMI1N24JE0499AY  10  0  0  1  0  0"
      ]
     },
     "execution_count": 78,
     "metadata": {},
     "output_type": "execute_result"
    }
   ],
   "source": [
    "# The data set obtained frim previous operations\n",
    "head(DT, 2)"
   ]
  },
  {
   "cell_type": "markdown",
   "metadata": {},
   "source": [
    "## Data normalization\n",
    "\n",
    "Adjusting values measured on different scales to a common scale. Normalized values allow the comparison of corresponding normalized values for different datasets in a way that eliminates the effects of certain gross influences."
   ]
  },
  {
   "cell_type": "code",
   "execution_count": 79,
   "metadata": {
    "collapsed": false
   },
   "outputs": [],
   "source": [
    "# data.table data frames doesn't suppor assigning row names. This is a cool and interesting feature in R data frames. We can assign each row an unique labes with the PER_ID_PERSONA and join later the assigned cluster to each PER_ID_PERSONA\n",
    "# Convert the data.table to a data.frame\n",
    "DT <- as.data.frame(DT)\n",
    "# Set each row names as the PER_ID_PERSONA \n",
    "row.names(DT) <- DT$PER_ID_PERSONA\n",
    "# Delete de PER_ID_PERSONA variable, no needed for the clustering algorithm\n",
    "DT$PER_ID_PERSONA <- NULL"
   ]
  },
  {
   "cell_type": "code",
   "execution_count": 80,
   "metadata": {
    "collapsed": false
   },
   "outputs": [
    {
     "data": {
      "text/html": [
       "<table>\n",
       "<thead><tr><th></th><th scope=col>F1</th><th scope=col>F2</th><th scope=col>F3</th><th scope=col>F4</th><th scope=col>F5</th><th scope=col>F6</th></tr></thead>\n",
       "<tbody>\n",
       "\t<tr><th scope=row>010BPUWEHI43K9AB179N</th><td> 2.1703465</td><td>-0.1020868</td><td>-0.2631964</td><td> 0.5349538</td><td>-0.2944623</td><td>-0.4218309</td></tr>\n",
       "\t<tr><th scope=row>0GQ3NQMI1N24JE0499AY</th><td>-0.5424624</td><td>-0.1020868</td><td>-0.2631964</td><td> 0.5349538</td><td>-0.2944623</td><td>-0.4218309</td></tr>\n",
       "</tbody>\n",
       "</table>\n"
      ],
      "text/latex": [
       "\\begin{tabular}{r|llllll}\n",
       "  & F1 & F2 & F3 & F4 & F5 & F6\\\\\n",
       "\\hline\n",
       "\t010BPUWEHI43K9AB179N &  2.1703465 & -0.1020868 & -0.2631964 &  0.5349538 & -0.2944623 & -0.4218309\\\\\n",
       "\t0GQ3NQMI1N24JE0499AY & -0.5424624 & -0.1020868 & -0.2631964 &  0.5349538 & -0.2944623 & -0.4218309\\\\\n",
       "\\end{tabular}\n"
      ],
      "text/markdown": [
       "1. 2.17034651257888\n",
       "2. -0.542462415281721\n",
       "3. -0.102086824751881\n",
       "4. -0.102086824751881\n",
       "5. -0.263196389794195\n",
       "6. -0.263196389794195\n",
       "7. 0.534953762962153\n",
       "8. 0.534953762962153\n",
       "9. -0.294462348245343\n",
       "10. -0.294462348245343\n",
       "11. -0.421830911552624\n",
       "12. -0.421830911552624\n",
       "\n",
       "\n"
      ],
      "text/plain": [
       "                             F1         F2         F3        F4         F5\n",
       "010BPUWEHI43K9AB179N  2.1703465 -0.1020868 -0.2631964 0.5349538 -0.2944623\n",
       "0GQ3NQMI1N24JE0499AY -0.5424624 -0.1020868 -0.2631964 0.5349538 -0.2944623\n",
       "                             F6\n",
       "010BPUWEHI43K9AB179N -0.4218309\n",
       "0GQ3NQMI1N24JE0499AY -0.4218309"
      ]
     },
     "execution_count": 80,
     "metadata": {},
     "output_type": "execute_result"
    }
   ],
   "source": [
    "# Data normalization\n",
    "DT <- scale(DT)\n",
    "head(DT, 2)"
   ]
  },
  {
   "cell_type": "markdown",
   "metadata": {},
   "source": [
    "## Export"
   ]
  },
  {
   "cell_type": "code",
   "execution_count": 81,
   "metadata": {
    "collapsed": false,
    "scrolled": true
   },
   "outputs": [],
   "source": [
    "# write de data.frame as a CSV file ready to be uploaded clustered\n",
    "write.table(DT[complete.cases(DT),], \"./data/sample_scaled.csv\", row.names = T, col.names = FALSE, sep=\",\")"
   ]
  },
  {
   "cell_type": "code",
   "execution_count": null,
   "metadata": {
    "collapsed": true
   },
   "outputs": [],
   "source": []
  }
 ],
 "metadata": {
  "kernelspec": {
   "display_name": "R",
   "language": "R",
   "name": "ir"
  },
  "language_info": {
   "codemirror_mode": "r",
   "file_extension": ".r",
   "mimetype": "text/x-r-source",
   "name": "R",
   "pygments_lexer": "r",
   "version": "3.2.2"
  },
  "widgets": {
   "state": {},
   "version": "1.1.1"
  }
 },
 "nbformat": 4,
 "nbformat_minor": 0
}

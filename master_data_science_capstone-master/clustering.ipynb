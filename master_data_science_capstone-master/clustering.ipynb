{
 "cells": [
  {
   "cell_type": "markdown",
   "metadata": {},
   "source": [
    "# Clustering analysis\n",
    "\n",
    "Cluster analysis or clustering is the task of grouping a set of objects in such a way that objects in the same group (called a cluster) are  similar to each other than to those in other groups or clusters. It is the main task of exploratory data mining, and a common technique for statistical data analysis.\n",
    "\n",
    "In this task we will use **k-means clustering**, a well known unsupervised learning technique, to cluster users based on their debit card usage. \n",
    "\n",
    "The clustering process is a high resource demanding algorithm and we will use the power of **Apache Spark** with a Hadoop File System.\n",
    "\n",
    "This notebook shows how we used Python to run the algorithm over the previous scaled data set. The process was executed first over the sample data file on a desktop computer. Later, the final application was run in the cluster with the full data set."
   ]
  },
  {
   "cell_type": "markdown",
   "metadata": {},
   "source": [
    "## Running the K-means machine learning algorithm "
   ]
  },
  {
   "cell_type": "markdown",
   "metadata": {},
   "source": [
    "In the K-Means algorithm process the dataset is partitioned into K clusters and the data points are randomly assigned to the clusters resulting in clusters that have roughly the same number of data points.\n",
    "\n",
    "For each data point the algorithm calculates the distance from the data point to each cluster. If the data point is closest to its own cluster, leave it where it is. If the data point is not closest to its own cluster, move it into the closest cluster.\n",
    "\n",
    "This process is repeated until a complete pass through all the data points results in no data point moving from one cluster to another. \n",
    "\n",
    "Then the clusters are stable and the clustering process ends."
   ]
  },
  {
   "cell_type": "code",
   "execution_count": 1,
   "metadata": {
    "collapsed": false
   },
   "outputs": [],
   "source": [
    "import pyspark\n",
    "from pyspark.mllib.clustering import KMeans, KMeansModel\n",
    "from math import sqrt\n",
    "from numpy import array\n",
    "import pandas as pd\n",
    "import numpy as np\n",
    "sc = pyspark.SparkContext('local[*]')"
   ]
  },
  {
   "cell_type": "code",
   "execution_count": 2,
   "metadata": {
    "collapsed": false
   },
   "outputs": [
    {
     "data": {
      "text/plain": [
       "[[u'\"002JN2ZPCA9DPVUE1Q7P\"',\n",
       "  u'-0.203482835943744',\n",
       "  u'-0.18567864257164',\n",
       "  u'-0.239067826339875',\n",
       "  u'0.407336432210637',\n",
       "  u'-0.297595479639087',\n",
       "  u'-0.382228893402316'],\n",
       " [u'\"0034SFJMXSQT5WX8QXY1\"',\n",
       "  u'2.17540799923321',\n",
       "  u'-0.18567864257164',\n",
       "  u'-0.239067826339875',\n",
       "  u'0.407336432210637',\n",
       "  u'-0.297595479639087',\n",
       "  u'-0.382228893402316']]"
      ]
     },
     "execution_count": 2,
     "metadata": {},
     "output_type": "execute_result"
    }
   ],
   "source": [
    "# Reading the file and showing the the first line with the PER_ID_PERSONA variable and the other scaled variables\n",
    "data = sc.textFile('./sample_scaled.csv').map(lambda x: x.strip().split(\",\"))\n",
    "data.take(2)"
   ]
  },
  {
   "cell_type": "code",
   "execution_count": 3,
   "metadata": {
    "collapsed": false
   },
   "outputs": [
    {
     "data": {
      "text/plain": [
       "[(u'\"002JN2ZPCA9DPVUE1Q7P\"',\n",
       "  array([-0.20348284, -0.18567864, -0.23906783,  0.40733643, -0.29759548,\n",
       "         -0.38222889])),\n",
       " (u'\"0034SFJMXSQT5WX8QXY1\"',\n",
       "  array([ 2.175408  , -0.18567864, -0.23906783,  0.40733643, -0.29759548,\n",
       "         -0.38222889]))]"
      ]
     },
     "execution_count": 3,
     "metadata": {},
     "output_type": "execute_result"
    }
   ],
   "source": [
    "# Data was wrangled to extract PER_ID_PERSONA\n",
    "clustering_input_pairs = data.map(lambda x: (x[0], array([float(x[1]), float(x[2]), float(x[3]), float(x[4]), float(x[5]), float(x[6])])))\n",
    "clustering_input_pairs.take(2)"
   ]
  },
  {
   "cell_type": "code",
   "execution_count": 4,
   "metadata": {
    "collapsed": false
   },
   "outputs": [
    {
     "data": {
      "text/plain": [
       "[array([-0.20348284, -0.18567864, -0.23906783,  0.40733643, -0.29759548,\n",
       "        -0.38222889]),\n",
       " array([ 2.175408  , -0.18567864, -0.23906783,  0.40733643, -0.29759548,\n",
       "        -0.38222889])]"
      ]
     },
     "execution_count": 4,
     "metadata": {},
     "output_type": "execute_result"
    }
   ],
   "source": [
    "# clustering_input contains the variables to be clustered\n",
    "clustering_input = data.map(lambda x: array([float(x[1]), float(x[2]), float(x[3]), float(x[4]), float(x[5]), float(x[6])]))\n",
    "clustering_input.take(2)"
   ]
  },
  {
   "cell_type": "code",
   "execution_count": 5,
   "metadata": {
    "collapsed": true
   },
   "outputs": [],
   "source": [
    "# This function calculates the sum of squared errors for each point\n",
    "def error(point):\n",
    "    center = clusters.centers[clusters.predict(point)]\n",
    "    return sqrt(sum([x**2 for x in (point - center)]))"
   ]
  },
  {
   "cell_type": "code",
   "execution_count": 19,
   "metadata": {
    "collapsed": false
   },
   "outputs": [
    {
     "name": "stdout",
     "output_type": "stream",
     "text": [
      "Within Set Sum of Squared Error = 47970.4103262\n",
      "Within Set Sum of Squared Error = 40421.463598\n",
      "Within Set Sum of Squared Error = 31147.7407155\n",
      "Within Set Sum of Squared Error = 20649.7720422\n",
      "Within Set Sum of Squared Error = 19554.0605653\n",
      "Within Set Sum of Squared Error = 18043.7840358\n",
      "Within Set Sum of Squared Error = 16614.4501642\n",
      "Within Set Sum of Squared Error = 14231.7266557\n"
     ]
    }
   ],
   "source": [
    "# The algorithm is trained over the dataset for a number of predefined clusters to partition the data.\n",
    "clustering_error = []\n",
    "for i in range(2,10):\n",
    "  clusters = KMeans.train(clustering_input, i, maxIterations=10, initializationMode=\"random\")\n",
    "  \n",
    "  WSSSE = clustering_input.map(lambda point: error(point)).reduce(lambda x, y: x + y)\n",
    "  print(\"Within Set Sum of Squared Error = \" + str(WSSSE))\n",
    "  clustering_error.append({\"clusters\":i, \"wssse\":WSSSE})"
   ]
  },
  {
   "cell_type": "code",
   "execution_count": 20,
   "metadata": {
    "collapsed": false
   },
   "outputs": [
    {
     "data": {
      "text/html": [
       "<div>\n",
       "<table border=\"1\" class=\"dataframe\">\n",
       "  <thead>\n",
       "    <tr style=\"text-align: right;\">\n",
       "      <th></th>\n",
       "      <th>clusters</th>\n",
       "      <th>wssse</th>\n",
       "    </tr>\n",
       "  </thead>\n",
       "  <tbody>\n",
       "    <tr>\n",
       "      <th>0</th>\n",
       "      <td>2</td>\n",
       "      <td>47970.410326</td>\n",
       "    </tr>\n",
       "    <tr>\n",
       "      <th>1</th>\n",
       "      <td>3</td>\n",
       "      <td>40421.463598</td>\n",
       "    </tr>\n",
       "    <tr>\n",
       "      <th>2</th>\n",
       "      <td>4</td>\n",
       "      <td>31147.740715</td>\n",
       "    </tr>\n",
       "    <tr>\n",
       "      <th>3</th>\n",
       "      <td>5</td>\n",
       "      <td>20649.772042</td>\n",
       "    </tr>\n",
       "    <tr>\n",
       "      <th>4</th>\n",
       "      <td>6</td>\n",
       "      <td>19554.060565</td>\n",
       "    </tr>\n",
       "    <tr>\n",
       "      <th>5</th>\n",
       "      <td>7</td>\n",
       "      <td>18043.784036</td>\n",
       "    </tr>\n",
       "    <tr>\n",
       "      <th>6</th>\n",
       "      <td>8</td>\n",
       "      <td>16614.450164</td>\n",
       "    </tr>\n",
       "    <tr>\n",
       "      <th>7</th>\n",
       "      <td>9</td>\n",
       "      <td>14231.726656</td>\n",
       "    </tr>\n",
       "  </tbody>\n",
       "</table>\n",
       "</div>"
      ],
      "text/plain": [
       "   clusters         wssse\n",
       "0         2  47970.410326\n",
       "1         3  40421.463598\n",
       "2         4  31147.740715\n",
       "3         5  20649.772042\n",
       "4         6  19554.060565\n",
       "5         7  18043.784036\n",
       "6         8  16614.450164\n",
       "7         9  14231.726656"
      ]
     },
     "execution_count": 20,
     "metadata": {},
     "output_type": "execute_result"
    }
   ],
   "source": [
    "# The Sum of Squared Errors are shown below for each number of clusters:\n",
    "cluster_error_set = pd.DataFrame(clustering_error)\n",
    "cluster_error_set"
   ]
  },
  {
   "cell_type": "code",
   "execution_count": 21,
   "metadata": {
    "collapsed": false
   },
   "outputs": [
    {
     "data": {
      "image/png": "[encoded data removed]",
      "text/plain": [
       "<matplotlib.figure.Figure at 0x7f24505f7fd0>"
      ]
     },
     "metadata": {},
     "output_type": "display_data"
    }
   ],
   "source": [
    "# Plot the Sum of Squared Error. \n",
    "%matplotlib inline\n",
    "import matplotlib as mpl\n",
    "import matplotlib.pyplot as plt\n",
    "\n",
    "cluster_error_set.plot(kind=\"line\",x=\"clusters\", y=\"wssse\", figsize=(8,6));"
   ]
  },
  {
   "cell_type": "markdown",
   "metadata": {},
   "source": [
    "**Chossing the right number of clusters**\n",
    "The previous plot shows how wssse decreased as the number of clusters increased. The graph suggests that 5 clusters can be a suitable number of cluster to segment the users. We considered that 4 clusters would be more appropriate from a managerial perspective."
   ]
  },
  {
   "cell_type": "code",
   "execution_count": 28,
   "metadata": {
    "collapsed": false
   },
   "outputs": [],
   "source": [
    "# Run the training process again with the number of clusters set to 4\n",
    "final_clusters = KMeans.train(clustering_input, 4, maxIterations=10, initializationMode=\"random\")"
   ]
  },
  {
   "cell_type": "code",
   "execution_count": 29,
   "metadata": {
    "collapsed": false
   },
   "outputs": [
    {
     "data": {
      "text/plain": [
       "[(u'\"002JN2ZPCA9DPVUE1Q7P\"', 3), (u'\"0034SFJMXSQT5WX8QXY1\"', 2)]"
      ]
     },
     "execution_count": 29,
     "metadata": {},
     "output_type": "execute_result"
    }
   ],
   "source": [
    "# Assign the cluster membership to each PER_ID_PERSONA\n",
    "cluster_membership = clustering_input_pairs.mapValues(lambda x: final_clusters.predict(x))\n",
    "cluster_membership.take(2)"
   ]
  },
  {
   "cell_type": "code",
   "execution_count": 30,
   "metadata": {
    "collapsed": false
   },
   "outputs": [],
   "source": [
    "# Finally we create a data frame with all the variables, the PER_ID_PERSONA and the assigned cluster\n",
    "def flatten_cluster_data(r):\n",
    "    return {\"PER_ID_PERSONA\": r[0], \"cluster\" : r[1][0], \"F1\": r[1][1][0], \"F2\": r[1][1][1], \"F3\": r[1][1][2], \"F4\": r[1][1][3], \"F5\": r[1][1][4], \"F6\": r[1][1][5]}\n",
    "complete_cluster_data = cluster_membership.join(clustering_input_pairs).map(flatten_cluster_data)"
   ]
  },
  {
   "cell_type": "code",
   "execution_count": 31,
   "metadata": {
    "collapsed": false
   },
   "outputs": [
    {
     "data": {
      "text/html": [
       "<div>\n",
       "<table border=\"1\" class=\"dataframe\">\n",
       "  <thead>\n",
       "    <tr style=\"text-align: right;\">\n",
       "      <th></th>\n",
       "      <th>F1</th>\n",
       "      <th>F2</th>\n",
       "      <th>F3</th>\n",
       "      <th>F4</th>\n",
       "      <th>F5</th>\n",
       "      <th>F6</th>\n",
       "      <th>PER_ID_PERSONA</th>\n",
       "      <th>cluster</th>\n",
       "    </tr>\n",
       "  </thead>\n",
       "  <tbody>\n",
       "    <tr>\n",
       "      <th>0</th>\n",
       "      <td>-0.516495</td>\n",
       "      <td>-0.185679</td>\n",
       "      <td>-0.239068</td>\n",
       "      <td>0.407336</td>\n",
       "      <td>-0.297595</td>\n",
       "      <td>-0.382229</td>\n",
       "      <td>\"RM7IDNNES0E9YXQDBLNO\"</td>\n",
       "      <td>3</td>\n",
       "    </tr>\n",
       "    <tr>\n",
       "      <th>1</th>\n",
       "      <td>2.488420</td>\n",
       "      <td>-0.185679</td>\n",
       "      <td>-0.239068</td>\n",
       "      <td>0.407336</td>\n",
       "      <td>-0.297595</td>\n",
       "      <td>-0.382229</td>\n",
       "      <td>\"X5BVS8HJN44LLS9PH6E7\"</td>\n",
       "      <td>2</td>\n",
       "    </tr>\n",
       "    <tr>\n",
       "      <th>2</th>\n",
       "      <td>0.109529</td>\n",
       "      <td>-0.185679</td>\n",
       "      <td>-0.239068</td>\n",
       "      <td>0.407336</td>\n",
       "      <td>-0.297595</td>\n",
       "      <td>-0.382229</td>\n",
       "      <td>\"UECSYDHEPPDHIA1QDTWO\"</td>\n",
       "      <td>3</td>\n",
       "    </tr>\n",
       "    <tr>\n",
       "      <th>3</th>\n",
       "      <td>-0.266085</td>\n",
       "      <td>-0.185679</td>\n",
       "      <td>-0.239068</td>\n",
       "      <td>2.622402</td>\n",
       "      <td>-0.297595</td>\n",
       "      <td>-0.382229</td>\n",
       "      <td>\"4J928ECM22BU0SG5BPI1\"</td>\n",
       "      <td>3</td>\n",
       "    </tr>\n",
       "    <tr>\n",
       "      <th>4</th>\n",
       "      <td>2.488420</td>\n",
       "      <td>-0.185679</td>\n",
       "      <td>-0.239068</td>\n",
       "      <td>0.407336</td>\n",
       "      <td>-0.297595</td>\n",
       "      <td>-0.382229</td>\n",
       "      <td>\"U7ZG3LWHTF5GU903CGH0\"</td>\n",
       "      <td>2</td>\n",
       "    </tr>\n",
       "  </tbody>\n",
       "</table>\n",
       "</div>"
      ],
      "text/plain": [
       "         F1        F2        F3        F4        F5        F6  \\\n",
       "0 -0.516495 -0.185679 -0.239068  0.407336 -0.297595 -0.382229   \n",
       "1  2.488420 -0.185679 -0.239068  0.407336 -0.297595 -0.382229   \n",
       "2  0.109529 -0.185679 -0.239068  0.407336 -0.297595 -0.382229   \n",
       "3 -0.266085 -0.185679 -0.239068  2.622402 -0.297595 -0.382229   \n",
       "4  2.488420 -0.185679 -0.239068  0.407336 -0.297595 -0.382229   \n",
       "\n",
       "           PER_ID_PERSONA  cluster  \n",
       "0  \"RM7IDNNES0E9YXQDBLNO\"        3  \n",
       "1  \"X5BVS8HJN44LLS9PH6E7\"        2  \n",
       "2  \"UECSYDHEPPDHIA1QDTWO\"        3  \n",
       "3  \"4J928ECM22BU0SG5BPI1\"        3  \n",
       "4  \"U7ZG3LWHTF5GU903CGH0\"        2  "
      ]
     },
     "execution_count": 31,
     "metadata": {},
     "output_type": "execute_result"
    }
   ],
   "source": [
    "cluster_df = pd.DataFrame(complete_cluster_data.collect())\n",
    "cluster_df[:5]"
   ]
  },
  {
   "cell_type": "markdown",
   "metadata": {},
   "source": [
    "### Ploting the clusters"
   ]
  },
  {
   "cell_type": "code",
   "execution_count": 32,
   "metadata": {
    "collapsed": false
   },
   "outputs": [
    {
     "data": {
      "image/png": "[encoded data removed]",
      "text/plain": [
       "<matplotlib.figure.Figure at 0x7f2450627250>"
      ]
     },
     "metadata": {},
     "output_type": "display_data"
    }
   ],
   "source": [
    "colors = [\"Blue\", \"Green\", \"Red\", \"Orange\"]\n",
    "fig, ax = plt.subplots(nrows=1, ncols=1, figsize=(8,6));\n",
    "grouped = cluster_df.groupby(['cluster'])\n",
    "for name, group in grouped:\n",
    "    group.plot(x=\"F1\",y=\"F2\", kind=\"scatter\", color=colors[name], ax=ax)"
   ]
  },
  {
   "cell_type": "code",
   "execution_count": 33,
   "metadata": {
    "collapsed": false
   },
   "outputs": [
    {
     "data": {
      "image/png": "[encoded data removed]",
      "text/plain": [
       "<matplotlib.figure.Figure at 0x7f2450c15150>"
      ]
     },
     "metadata": {},
     "output_type": "display_data"
    }
   ],
   "source": [
    "fig, ax = plt.subplots(nrows=1, ncols=1, figsize=(8,6));\n",
    "grouped = cluster_df.groupby(['cluster'])\n",
    "for name, group in grouped:\n",
    "    group.plot(x=\"F1\",y=\"F3\", kind=\"scatter\", color=colors[name], ax=ax)"
   ]
  },
  {
   "cell_type": "markdown",
   "metadata": {},
   "source": [
    "*As a result of the testing phase, a PySpark applications was coded to run the cluestering process over the complete dataset.*"
   ]
  }
 ],
 "metadata": {
  "kernelspec": {
   "display_name": "Python 2",
   "language": "python",
   "name": "python2"
  },
  "language_info": {
   "codemirror_mode": {
    "name": "ipython",
    "version": 2
   },
   "file_extension": ".py",
   "mimetype": "text/x-python",
   "name": "python",
   "nbconvert_exporter": "python",
   "pygments_lexer": "ipython2",
   "version": "2.7.11"
  },
  "widgets": {
   "state": {},
   "version": "1.1.1"
  }
 },
 "nbformat": 4,
 "nbformat_minor": 0
}
